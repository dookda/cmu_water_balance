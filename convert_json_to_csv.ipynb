{
 "cells": [
  {
   "cell_type": "code",
   "execution_count": null,
   "id": "59f1d495",
   "metadata": {},
   "outputs": [],
   "source": [
    "# export to CSV or Excel from JSON\n",
    "import json\n",
    "import pandas as pd\n",
    "\n",
    "# 1. Load your JSON (e.g. from a file)\n",
    "with open('sta_runoff.json', encoding='utf-8') as f:\n",
    "    js = json.load(f)\n",
    "\n",
    "# 2. Normalize / flatten the \"data\" array\n",
    "df = pd.json_normalize(js['data'],\n",
    "                       sep='_')   # nested keys become e.g. agency_agency_name_th\n",
    "\n",
    "# 3. (Optional) select/reorder columns if you don’t want *every* field\n",
    "# cols = [\n",
    "#     'id', 'waterlevel_datetime', 'waterlevel_msl', 'storage_percent',\n",
    "#     'agency_agency_name_en', 'basin_basin_name_en',\n",
    "#     'station_tele_station_name_en', 'geocode_province_name_en',\n",
    "#     'diff_wl_bank'\n",
    "# ]\n",
    "# df = df[cols]\n",
    "\n",
    "\n",
    "# 4. Write to CSV\n",
    "# df.to_csv('output.csv', index=False, encoding='utf-8-sig')\n",
    "# 5. (Optional) Write to Excel\n",
    "df.to_excel('output.xlsx', index=False)\n"
   ]
  },
  {
   "cell_type": "code",
   "execution_count": null,
   "id": "af5c2cf7",
   "metadata": {},
   "outputs": [],
   "source": [
    "# convert JSON to GeoJSON\n",
    "# import geopandas as gpd"
   ]
  }
 ],
 "metadata": {
  "kernelspec": {
   "display_name": "base",
   "language": "python",
   "name": "python3"
  },
  "language_info": {
   "codemirror_mode": {
    "name": "ipython",
    "version": 3
   },
   "file_extension": ".py",
   "mimetype": "text/x-python",
   "name": "python",
   "nbconvert_exporter": "python",
   "pygments_lexer": "ipython3",
   "version": "3.11.4"
  }
 },
 "nbformat": 4,
 "nbformat_minor": 5
}
