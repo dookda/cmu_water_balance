{
 "cells": [
  {
   "cell_type": "code",
   "execution_count": 4,
   "id": "59f1d495",
   "metadata": {},
   "outputs": [
    {
     "name": "stdout",
     "output_type": "stream",
     "text": [
      "           id waterlevel_datetime waterlevel_m waterlevel_msl  \\\n",
      "0  1092639291    2025-07-02 07:20         None           5.87   \n",
      "1  1092639424    2025-07-02 07:20         None         155.58   \n",
      "2  1092639344    2025-07-02 07:20         None         149.58   \n",
      "3  1092639299    2025-07-02 07:20         None         161.35   \n",
      "4  1092635841    2025-07-02 07:10         None         489.53   \n",
      "\n",
      "  waterlevel_msl_previous flow_rate discharge storage_percent sort_order  \\\n",
      "0                    5.86      None      None          122.79       None   \n",
      "1                  155.57      None      None          111.10       None   \n",
      "2                  149.58      None      None          106.54       None   \n",
      "3                  161.35      None      None          102.78       None   \n",
      "4                  489.53      None      None           99.82       None   \n",
      "\n",
      "      station_type  ...  geocode_tumbon_code geocode_tumbon_name_th  \\\n",
      "0  tele_waterlevel  ...                   22           โพธิ์เก้าต้น   \n",
      "1  tele_waterlevel  ...                   08                  สว่าง   \n",
      "2  tele_waterlevel  ...                   03                 ยอดชาด   \n",
      "3  tele_waterlevel  ...                   13                   นาคำ   \n",
      "4  tele_waterlevel  ...                   04              แม่นาเรือ   \n",
      "\n",
      "  geocode_tumbon_name_en  geocode_province_code geocode_province_name_th  \\\n",
      "0            Pho Kao Ton                     16                   ลพบุรี   \n",
      "1                 Sawang                     47                   สกลนคร   \n",
      "2               Yot Chat                     48                   นครพนม   \n",
      "3                Na Kham                     41                 อุดรธานี   \n",
      "4            Mae Na Ruea                     56                    พะเยา   \n",
      "\n",
      "  geocode_province_name_en river_gid river_name station_sponsor_by  \\\n",
      "0                 Lop Buri       NaN        NaN                NaN   \n",
      "1             Sakon Nakhon  119181.0   ลำน้ำอูน                NaN   \n",
      "2            Nakhon Phanom  122751.0    ลำน้ำกำ                NaN   \n",
      "3               Udon Thani  113643.0   ห้วยหลวง                NaN   \n",
      "4                   Phayao       NaN        NaN                NaN   \n",
      "\n",
      "  station_tele_station_name_jp  \n",
      "0                          NaN  \n",
      "1                          NaN  \n",
      "2                          NaN  \n",
      "3                          NaN  \n",
      "4                          NaN  \n",
      "\n",
      "[5 rows x 61 columns]\n"
     ]
    }
   ],
   "source": [
    "# export to CSV or Excel from JSON\n",
    "import json\n",
    "import pandas as pd\n",
    "\n",
    "# 1. Load your JSON (e.g. from a file)\n",
    "with open('sta_runoff.json', encoding='utf-8') as f:\n",
    "    js = json.load(f)\n",
    "\n",
    "# 2. Normalize / flatten the \"data\" array\n",
    "df = pd.json_normalize(js['data'],\n",
    "                       sep='_')   # nested keys become e.g. agency_agency_name_th\n",
    "\n",
    "# 3. (Optional) select/reorder columns if you don’t want *every* field\n",
    "# cols = [\n",
    "#     'id', 'waterlevel_datetime', 'waterlevel_msl', 'storage_percent',\n",
    "#     'agency_agency_name_en', 'basin_basin_name_en',\n",
    "#     'station_tele_station_name_en', 'geocode_province_name_en',\n",
    "#     'diff_wl_bank'\n",
    "# ]\n",
    "# df = df[cols]\n",
    "\n",
    "print(df.head())  # Display the first few rows of the DataFrame\n",
    "\n",
    "\n",
    "# 4. Write to CSV\n",
    "# df.to_csv('output.csv', index=False, encoding='utf-8-sig')\n",
    "# 5. (Optional) Write to Excel\n",
    "# df.to_excel('output.xlsx', index=False)\n"
   ]
  },
  {
   "cell_type": "code",
   "execution_count": 5,
   "id": "af5c2cf7",
   "metadata": {},
   "outputs": [],
   "source": [
    "# convert JSON to GeoJSON\n",
    "import geopandas as gpd\n",
    "# Convert DataFrame to GeoDataFrame\n",
    "gdf = gpd.GeoDataFrame(df, geometry=gpd.points_from_xy(df['station_tele_station_long'], df['station_tele_station_lat']))    \n",
    "# Save to GeoJSON\n",
    "gdf.to_file('output.geojson', driver='GeoJSON')"
   ]
  }
 ],
 "metadata": {
  "kernelspec": {
   "display_name": "base",
   "language": "python",
   "name": "python3"
  },
  "language_info": {
   "codemirror_mode": {
    "name": "ipython",
    "version": 3
   },
   "file_extension": ".py",
   "mimetype": "text/x-python",
   "name": "python",
   "nbconvert_exporter": "python",
   "pygments_lexer": "ipython3",
   "version": "3.11.4"
  }
 },
 "nbformat": 4,
 "nbformat_minor": 5
}
