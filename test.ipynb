{
 "cells": [
  {
   "cell_type": "code",
   "execution_count": null,
   "id": "c14a7732",
   "metadata": {},
   "outputs": [
    {
     "name": "stdout",
     "output_type": "stream",
     "text": [
      "3D array with all values set to 25:\n",
      " [[[25 25 25 25 25]\n",
      "  [25 25 25 25 25]\n",
      "  [25 25 25 25 25]\n",
      "  [25 25 25 25 25]]\n",
      "\n",
      " [[25 25 25 25 25]\n",
      "  [25 25 25 25 25]\n",
      "  [25 25 25 25 25]\n",
      "  [25 25 25 25 25]]\n",
      "\n",
      " [[25 25 25 25 25]\n",
      "  [25 25 25 25 25]\n",
      "  [25 25 25 25 25]\n",
      "  [25 25 25 25 25]]]\n",
      "Mean of 3D array along axis 0:\n",
      "[[25. 25. 25. 25. 25.]\n",
      " [25. 25. 25. 25. 25.]\n",
      " [25. 25. 25. 25. 25.]\n",
      " [25. 25. 25. 25. 25.]]\n",
      "\n",
      "Mean of 2D array along axis 0:\n",
      "[0.59273278 0.7448015  0.30071564 0.32557941]\n"
     ]
    }
   ],
   "source": [
    "import numpy as np\n",
    "\n",
    "# create 3D array with value = 25 all cell \n",
    "data = np.full((3, 4, 5), 25)\n",
    "\n",
    "print(\"3D array with all values set to 25:\"\n",
    "      \"\\n\", data)\n",
    "\n",
    "\n"
   ]
  }
 ],
 "metadata": {
  "kernelspec": {
   "display_name": "gee",
   "language": "python",
   "name": "python3"
  },
  "language_info": {
   "codemirror_mode": {
    "name": "ipython",
    "version": 3
   },
   "file_extension": ".py",
   "mimetype": "text/x-python",
   "name": "python",
   "nbconvert_exporter": "python",
   "pygments_lexer": "ipython3",
   "version": "3.10.18"
  }
 },
 "nbformat": 4,
 "nbformat_minor": 5
}
